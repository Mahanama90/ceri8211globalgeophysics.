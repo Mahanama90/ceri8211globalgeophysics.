{
  "nbformat": 4,
  "nbformat_minor": 0,
  "metadata": {
    "colab": {
      "name": "HW6.ipynb",
      "provenance": [],
      "collapsed_sections": [],
      "authorship_tag": "ABX9TyNunZV/BnqcT8wk5bv21V96",
      "include_colab_link": true
    },
    "kernelspec": {
      "name": "python3",
      "display_name": "Python 3"
    }
  },
  "cells": [
    {
      "cell_type": "markdown",
      "metadata": {
        "id": "view-in-github",
        "colab_type": "text"
      },
      "source": [
        "<a href=\"https://colab.research.google.com/github/Mahanama90/ceri8211globalgeophysics./blob/master/HW6.ipynb\" target=\"_parent\"><img src=\"https://colab.research.google.com/assets/colab-badge.svg\" alt=\"Open In Colab\"/></a>"
      ]
    },
    {
      "cell_type": "markdown",
      "metadata": {
        "id": "GL7ru9xnT-QU",
        "colab_type": "text"
      },
      "source": [
        "Homework 06/ 6a and 6b / Reproducing a graph / A.Mahanama"
      ]
    },
    {
      "cell_type": "code",
      "metadata": {
        "id": "DF3W7HR-CRLh",
        "colab_type": "code",
        "colab": {}
      },
      "source": [
        "# Import libraries\n",
        "import pandas as pd\n",
        "import numpy as np\n",
        "import matplotlib.pyplot as plt\n"
      ],
      "execution_count": 0,
      "outputs": []
    },
    {
      "cell_type": "code",
      "metadata": {
        "id": "VrVeOiJBNEHu",
        "colab_type": "code",
        "outputId": "aeca734d-2a23-4690-b558-5626e9964cd4",
        "colab": {
          "base_uri": "https://localhost:8080/",
          "height": 34
        }
      },
      "source": [
        "from google.colab import drive # Mounting Google Drivre locally 'https://colab.research.google.com/notebooks/io.ipynb#scrollTo=XDg9OBaYqRMd'\n",
        "drive.mount('/content/drive')"
      ],
      "execution_count": 174,
      "outputs": [
        {
          "output_type": "stream",
          "text": [
            "Drive already mounted at /content/drive; to attempt to forcibly remount, call drive.mount(\"/content/drive\", force_remount=True).\n"
          ],
          "name": "stdout"
        }
      ]
    },
    {
      "cell_type": "code",
      "metadata": {
        "id": "6O13PbQApNIW",
        "colab_type": "code",
        "outputId": "367397a3-ce41-4015-de8b-98fb68c831e4",
        "colab": {
          "base_uri": "https://localhost:8080/",
          "height": 292
        }
      },
      "source": [
        "# Read excel files\n",
        "df = pd.read_excel (r'/content/drive/My Drive/Global_HW6/Data2.xlsx', sheet_name='Site-Sp') \n",
        "df1 = pd.read_excel (r'/content/drive/My Drive/Global_HW6/Data2.xlsx', sheet_name='Filtered') \n",
        "df2 = pd.read_excel (r'/content/drive/My Drive/Global_HW6/Data2.xlsx', sheet_name='Unfiltered') \n",
        "df3 = pd.read_excel (r'/content/drive/My Drive/Global_HW6/Data2.xlsx', sheet_name='GDHI') \n",
        "\n",
        "# Read column by column \n",
        "Site_Corrected_Q2 = df['Q2.1']\n",
        "Site_Age_Min = df['Min']\n",
        "\n",
        "Filtered_Corrected_Q2 = df1['Q2.1']\n",
        "Filtered_Age_Min = df1['Min']\n",
        "\n",
        "UnFiltered_Corrected_Q2 = df2['Q2.1']\n",
        "UnFiltered_Age_Min = df2['Min']\n",
        "\n",
        "# Formated data set \"GDHI\" , Using it to produce error bard and fit GDHI model\n",
        "GDHI_Q = df3['GDHI']\n",
        "GDHI_Age_Min = df3['Age_Min']\n",
        "\n",
        "# Interquartile range calculations for Site data and the rest of the data\n",
        "y = df3['Q2']\n",
        "x = df3['Age_Min']\n",
        "Q1 = df3['Q1']\n",
        "Q3 = df3['Q3']\n",
        "yplus = Q3-y\n",
        "yminus = y- Q1\n",
        "y1 = y[0:9]\n",
        "x1 = x[0:9]\n",
        "Q1_site = Q1[0:9]\n",
        "Q3_site = Q3[0:9]\n",
        "yplus_site = Q3_site-y1\n",
        "yminus_site = y1-Q1_site\n",
        "\n",
        "y2 = y[10:71]\n",
        "x2 = x[10:71]\n",
        "Q1_rest = Q1[10:71]\n",
        "Q3_rest = Q3[10:71]\n",
        "yplus_rest = Q3_rest-y2\n",
        "yminus_rest = y2-Q1_rest\n",
        "\n",
        "# Plotting\n",
        "# Site- specific data points\n",
        "plt.plot(Site_Age_Min,Site_Corrected_Q2,'ok',marker='*', markerfacecolor='yellow', markersize=12, markeredgecolor=\"black\")\n",
        "# Filtered data points\n",
        "plt.plot(Filtered_Age_Min,Filtered_Corrected_Q2,'ok',marker='s', markerfacecolor='orange', markersize=8, markeredgecolor=\"black\")\n",
        "# Unfiltered data points\n",
        "plt.plot(UnFiltered_Age_Min,UnFiltered_Corrected_Q2,'ok',marker='o', markerfacecolor='white', markersize=8, markeredgecolor=\"black\")\n",
        "# Polynomial fit for the GDHI model\n",
        "fit_fn=np.poly1d(fit)\n",
        "scat=plt.plot( GDHI_Age_Min,fit_fn(GDHI_Age_Min), 'black' )\n",
        "# Error bars for site_specific data with less elinewidth\n",
        "plt.errorbar(x1,y1 , yerr= (yminus_site,yplus_site),ecolor='gray',linestyle='dashed', color='white', linewidth= 0, elinewidth=2.0)\n",
        "# Error bars for rest of the  data with higher elinewidth\n",
        "plt.errorbar(x2,y2 , yerr= (yminus_rest,yplus_rest),ecolor='gray',linestyle='dashed', color='white', linewidth= 0, elinewidth=5.0)\n",
        "# Additional ploting steps\n",
        "plt.xlim(0, 180)\n",
        "plt.ylim(0, 400)\n",
        "# Minorticks on\n",
        "plt.minorticks_on()\n",
        "# Format ticks\n",
        "plt.tick_params(which='major', length=10, width=2, direction='in',bottom = True,top =True , right = True,left = True,)\n",
        "plt.tick_params(which='minor', length=5, width=1, direction='in',bottom = True,top =True , right = True,left = True)\n",
        "plt.xticks(np.arange(0,181, 60.0))\n",
        "plt.yticks(np.arange(0,401, 100.0))\n",
        "# Legend and all\n",
        "plt.legend(['site-specific','Filtered','global'],title=\"heat flow-this study\")\n",
        "plt.xlabel('Seafloor Age [Ma]')\n",
        "plt.ylabel( r'$Heat-Flow [mW/m^{2}]$')\n",
        "plt.title('Reproduce of D Hasterok paper Figure 3B')\n",
        "plt.show()\n"
      ],
      "execution_count": 175,
      "outputs": [
        {
          "output_type": "display_data",
          "data": {
            "image/png": "[encoded data removed]",
            "text/plain": [
              "<Figure size 432x288 with 1 Axes>"
            ]
          },
          "metadata": {
            "tags": [],
            "needs_background": "light"
          }
        }
      ]
    }
  ]
}