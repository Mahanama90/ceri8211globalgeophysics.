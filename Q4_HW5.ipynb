{
  "nbformat": 4,
  "nbformat_minor": 0,
  "metadata": {
    "colab": {
      "name": "Q4/HW5.ipynb",
      "provenance": [],
      "authorship_tag": "ABX9TyOaRsfy4Vrx1CCovIHHalld",
      "include_colab_link": true
    },
    "kernelspec": {
      "name": "python3",
      "display_name": "Python 3"
    }
  },
  "cells": [
    {
      "cell_type": "markdown",
      "metadata": {
        "id": "view-in-github",
        "colab_type": "text"
      },
      "source": [
        "<a href=\"https://colab.research.google.com/github/Mahanama90/ceri8211globalgeophysics./blob/master/Q4_HW5.ipynb\" target=\"_parent\"><img src=\"https://colab.research.google.com/assets/colab-badge.svg\" alt=\"Open In Colab\"/></a>"
      ]
    },
    {
      "cell_type": "markdown",
      "metadata": {
        "id": "PfS5AHQtiFb6",
        "colab_type": "text"
      },
      "source": [
        "A.Mahanama / Q4/ HW5 Retlative plate motion"
      ]
    },
    {
      "cell_type": "code",
      "metadata": {
        "id": "8CPzvMsMnXuO",
        "colab_type": "code",
        "colab": {}
      },
      "source": [
        "import numpy as np\n",
        "import math"
      ],
      "execution_count": 0,
      "outputs": []
    },
    {
      "cell_type": "code",
      "metadata": {
        "id": "ddphbHXPn9A7",
        "colab_type": "code",
        "colab": {}
      },
      "source": [
        "# Latitude Boundary\n",
        "lat = np.array([54,52,38,26,-13,-36,-59,-45,-55,-52,-28,-55,-52,9,35,-12,35,-35,-4])\n",
        "# Logitude Boundary\n",
        "lon = np.array([169,-169,-122,-110,-112,-110,-150,169,159,140,74,5,5,-40,-35,120,72,-74,-82])\n",
        "# Latitude pole\n",
        "latp = np.array([48.7,48.7,48.7,48.7,55.6,-64.3,-64.3,-60.1,-60.1,13.2,13.2,5.6,62.5,62.5,78.8,24.4,24.4,56,56])\n",
        "# Longitude pole\n",
        "lonp =np.array([-78.2,-78.2,-78.2,-78.2,-90.1,96,96,-178.3,-178.3,38.2,38.2,-39.2,-39.4,-39.4,38.3,17.7,17.7,-94,-94])\n",
        "# Angular velocity\n",
        "Ang = 1e-7*np.array([7.5,7.5,7.5,7.5,13.6,8.7,8.7,10.7,10.7,6.5,6.5,1.3,3.1,3.1,2.4,5.1,5.1,7.2,7.2])\n",
        "# Calculation of Angle a\n",
        "sindlat = np.sin(lat * np.pi/180)\n",
        "sindlatp = np.sin(latp * np.pi/180)\n",
        "cosdlat = np.cos(lat * np.pi/180)\n",
        "cosdlatp = np.cos(latp * np.pi/180)\n",
        "cosdlonplan = np.cos((lonp-lon)* np.pi/180)\n",
        "sindlonplon = np.sin((lonp-lon)* np.pi/180)\n",
        "# Equation for Angle a\n",
        "a1 = (sindlat*sindlatp)+(cosdlat*cosdlatp)*cosdlonplan\n",
        "a2 = np.arccos(a1)\n",
        "# Angle a\n",
        "a  = np.degrees(a2)\n",
        "sinda = np.sin(a * np.pi/180)\n",
        "# Azimuth calculation\n",
        "C1 = ((cosdlatp*sindlonplon)/sinda)\n",
        "C2 = np.arcsin(C1)\n",
        "C = np.degrees(C2)\n",
        "# Azimuth (Inverse sin function is doubled value, considered before calculating Azimuth)\n",
        "Beta = (90+C)\n",
        "# Radius of Earth\n",
        "r = 6371e5 \n",
        "# Relative motion\n",
        "V = Ang*r*sinda*math.pi/180\n",
        "\n",
        "print(Beta)\n",
        "print(V)\n",
        "\n"
      ],
      "execution_count": 0,
      "outputs": []
    }
  ]
}